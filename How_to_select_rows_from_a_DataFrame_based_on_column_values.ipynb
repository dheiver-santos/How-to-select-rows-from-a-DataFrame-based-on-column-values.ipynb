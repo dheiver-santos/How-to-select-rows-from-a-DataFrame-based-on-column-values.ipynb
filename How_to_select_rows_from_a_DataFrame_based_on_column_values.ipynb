{
  "nbformat": 4,
  "nbformat_minor": 0,
  "metadata": {
    "colab": {
      "name": "How to select rows from a DataFrame based on column values.ipynb",
      "provenance": []
    },
    "kernelspec": {
      "name": "python3",
      "display_name": "Python 3"
    },
    "language_info": {
      "name": "python"
    }
  },
  "cells": [
    {
      "cell_type": "code",
      "metadata": {
        "colab": {
          "base_uri": "https://localhost:8080/"
        },
        "id": "P1AgtLyDbJQ6",
        "outputId": "e7d02912-cc99-44dd-9bf2-6ea8cc8a82e9"
      },
      "source": [
        "import pandas as pd\n",
        "import numpy as np\n",
        "df = pd.DataFrame({'A': 'foo bar foo bar foo bar foo foo'.split(),\n",
        "                   'B': 'one one two three two two one three'.split(),\n",
        "                   'C': np.arange(8), 'D': np.arange(8) * 2})\n",
        "print(df)"
      ],
      "execution_count": 3,
      "outputs": [
        {
          "output_type": "stream",
          "text": [
            "     A      B  C   D\n",
            "0  foo    one  0   0\n",
            "1  bar    one  1   2\n",
            "2  foo    two  2   4\n",
            "3  bar  three  3   6\n",
            "4  foo    two  4   8\n",
            "5  bar    two  5  10\n",
            "6  foo    one  6  12\n",
            "7  foo  three  7  14\n"
          ],
          "name": "stdout"
        }
      ]
    },
    {
      "cell_type": "code",
      "metadata": {
        "colab": {
          "base_uri": "https://localhost:8080/"
        },
        "id": "2W46OMROb5bU",
        "outputId": "72ad609c-053e-497b-e5e3-f6beac9647d7"
      },
      "source": [
        "print(df.loc[df['A'] == 'foo'])\n"
      ],
      "execution_count": 4,
      "outputs": [
        {
          "output_type": "stream",
          "text": [
            "     A      B  C   D\n",
            "0  foo    one  0   0\n",
            "2  foo    two  2   4\n",
            "4  foo    two  4   8\n",
            "6  foo    one  6  12\n",
            "7  foo  three  7  14\n"
          ],
          "name": "stdout"
        }
      ]
    },
    {
      "cell_type": "code",
      "metadata": {
        "colab": {
          "base_uri": "https://localhost:8080/"
        },
        "id": "fV21Cw2ob-LT",
        "outputId": "21d2622b-89ac-4197-c074-df839e6f9972"
      },
      "source": [
        "print(df.loc[df['B'].isin(['one','three'])])\n"
      ],
      "execution_count": 5,
      "outputs": [
        {
          "output_type": "stream",
          "text": [
            "     A      B  C   D\n",
            "0  foo    one  0   0\n",
            "1  bar    one  1   2\n",
            "3  bar  three  3   6\n",
            "6  foo    one  6  12\n",
            "7  foo  three  7  14\n"
          ],
          "name": "stdout"
        }
      ]
    },
    {
      "cell_type": "code",
      "metadata": {
        "id": "HDs20PWjcGCC",
        "outputId": "9b8a9841-3f93-42c5-c7fb-b37595862e2b",
        "colab": {
          "base_uri": "https://localhost:8080/"
        }
      },
      "source": [
        "df = df.set_index(['B'])\n",
        "print(df.loc['one'])"
      ],
      "execution_count": 6,
      "outputs": [
        {
          "output_type": "stream",
          "text": [
            "       A  C   D\n",
            "B              \n",
            "one  foo  0   0\n",
            "one  bar  1   2\n",
            "one  foo  6  12\n"
          ],
          "name": "stdout"
        }
      ]
    }
  ]
}